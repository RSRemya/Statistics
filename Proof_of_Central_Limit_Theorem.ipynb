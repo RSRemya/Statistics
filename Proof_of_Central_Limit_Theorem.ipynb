{
 "cells": [
  {
   "cell_type": "code",
   "execution_count": 1,
   "id": "18f8aebe",
   "metadata": {},
   "outputs": [],
   "source": [
    "import numpy as np\n",
    "from statistics import mode"
   ]
  },
  {
   "cell_type": "markdown",
   "id": "afea8523",
   "metadata": {},
   "source": [
    "# Central Limit Theorem"
   ]
  },
  {
   "cell_type": "markdown",
   "id": "756e4de0",
   "metadata": {},
   "source": [
    "Take samples from population(samples may follow any distribution), when we take their mean as datapoints ...it will follow a normal distribution, iff size of samples is large enough"
   ]
  },
  {
   "cell_type": "code",
   "execution_count": 2,
   "id": "927c38c9",
   "metadata": {},
   "outputs": [],
   "source": [
    "# Defining the population\n",
    "population=np.random.binomial(10,0.5,10000)"
   ]
  },
  {
   "cell_type": "code",
   "execution_count": 3,
   "id": "707204b2",
   "metadata": {},
   "outputs": [
    {
     "name": "stderr",
     "output_type": "stream",
     "text": [
      "C:\\ProgramData\\Anaconda3\\lib\\site-packages\\seaborn\\distributions.py:2619: FutureWarning: `distplot` is a deprecated function and will be removed in a future version. Please adapt your code to use either `displot` (a figure-level function with similar flexibility) or `histplot` (an axes-level function for histograms).\n",
      "  warnings.warn(msg, FutureWarning)\n"
     ]
    },
    {
     "data": {
      "text/plain": [
       "<AxesSubplot:ylabel='Density'>"
      ]
     },
     "execution_count": 3,
     "metadata": {},
     "output_type": "execute_result"
    },
    {
     "data": {
      "image/png": "[encoded data removed]",
      "text/plain": [
       "<Figure size 640x480 with 1 Axes>"
      ]
     },
     "metadata": {},
     "output_type": "display_data"
    }
   ],
   "source": [
    "import seaborn as sns\n",
    "sns.distplot(population)"
   ]
  },
  {
   "cell_type": "code",
   "execution_count": 4,
   "id": "f151372d",
   "metadata": {},
   "outputs": [
    {
     "ename": "NameError",
     "evalue": "name 'stats' is not defined",
     "output_type": "error",
     "traceback": [
      "\u001b[1;31m---------------------------------------------------------------------------\u001b[0m",
      "\u001b[1;31mNameError\u001b[0m                                 Traceback (most recent call last)",
      "\u001b[1;32m~\\AppData\\Local\\Temp\\ipykernel_12248\\261304787.py\u001b[0m in \u001b[0;36m<module>\u001b[1;34m\u001b[0m\n\u001b[1;32m----> 1\u001b[1;33m \u001b[0mstats\u001b[0m\u001b[1;33m.\u001b[0m\u001b[0mshapiro\u001b[0m\u001b[1;33m(\u001b[0m\u001b[0mpopulation\u001b[0m\u001b[1;33m)\u001b[0m\u001b[1;33m\u001b[0m\u001b[1;33m\u001b[0m\u001b[0m\n\u001b[0m",
      "\u001b[1;31mNameError\u001b[0m: name 'stats' is not defined"
     ]
    }
   ],
   "source": [
    "stats.shapiro(population)"
   ]
  },
  {
   "cell_type": "code",
   "execution_count": null,
   "id": "0bc95f25",
   "metadata": {},
   "outputs": [],
   "source": [
    "int(len(population)*0.30)"
   ]
  },
  {
   "cell_type": "code",
   "execution_count": null,
   "id": "c26544b5",
   "metadata": {},
   "outputs": [],
   "source": [
    "size=int(len(population)*0.30) # size of a sample (size of population is 10000 and size of sample is 3000)"
   ]
  },
  {
   "cell_type": "code",
   "execution_count": null,
   "id": "ea4baa1a",
   "metadata": {},
   "outputs": [],
   "source": [
    "# On taking 30 samples(having 3000 datapoints each) from population\n",
    "\n",
    "sample_mean=[]\n",
    "for i in range(1,31):\n",
    "    sample=np.random.choice(population,size=size)\n",
    "    sample_mean.append(np.mean(sample))"
   ]
  },
  {
   "cell_type": "code",
   "execution_count": null,
   "id": "7e326426",
   "metadata": {},
   "outputs": [],
   "source": [
    "sns.distplot(sample_mean)"
   ]
  },
  {
   "cell_type": "code",
   "execution_count": null,
   "id": "751ac0e0",
   "metadata": {},
   "outputs": [],
   "source": [
    "from scipy import stats\n",
    "stats.shapiro(sample_mean)"
   ]
  },
  {
   "cell_type": "code",
   "execution_count": null,
   "id": "e105d98b",
   "metadata": {},
   "outputs": [],
   "source": [
    "# On taking 100 samples(having 3000 datapoints each) from population\n",
    "\n",
    "sample_mean=[]\n",
    "for i in range(1,101):\n",
    "    sample=np.random.choice(population,size=size)\n",
    "    sample_mean.append(np.mean(sample))"
   ]
  },
  {
   "cell_type": "code",
   "execution_count": null,
   "id": "e19c87f6",
   "metadata": {},
   "outputs": [],
   "source": [
    "sns.distplot(sample_mean)"
   ]
  },
  {
   "cell_type": "code",
   "execution_count": null,
   "id": "7b8b452d",
   "metadata": {},
   "outputs": [],
   "source": [
    "stats.shapiro(sample_mean)"
   ]
  },
  {
   "cell_type": "code",
   "execution_count": null,
   "id": "30ec98b1",
   "metadata": {},
   "outputs": [],
   "source": [
    "# Does not follow normal distribution when number of samples taken is just 100"
   ]
  },
  {
   "cell_type": "code",
   "execution_count": null,
   "id": "213147e1",
   "metadata": {},
   "outputs": [],
   "source": [
    "# On taking 500 samples(having 3000 datapoints each) from population\n",
    "\n",
    "sample_mean=[]\n",
    "for i in range(1,501):\n",
    "    sample=np.random.choice(population,size=size)\n",
    "    sample_mean.append(np.mean(sample))"
   ]
  },
  {
   "cell_type": "code",
   "execution_count": null,
   "id": "08290a89",
   "metadata": {},
   "outputs": [],
   "source": [
    "sns.distplot(sample_mean,kde=True,color=\"red\")"
   ]
  },
  {
   "cell_type": "code",
   "execution_count": null,
   "id": "b2298842",
   "metadata": {},
   "outputs": [],
   "source": [
    "stats.shapiro(sample_mean)"
   ]
  },
  {
   "cell_type": "code",
   "execution_count": null,
   "id": "6387c775",
   "metadata": {},
   "outputs": [],
   "source": [
    "# Follow normal distribution when number of samples taken is  500"
   ]
  },
  {
   "cell_type": "code",
   "execution_count": null,
   "id": "72b716b5",
   "metadata": {},
   "outputs": [],
   "source": [
    "sample_mean=[]\n",
    "for i in range(1,1000):\n",
    "    sample=np.random.choice(population,size=size)\n",
    "    sample_mean.append(np.mean(sample))"
   ]
  },
  {
   "cell_type": "code",
   "execution_count": null,
   "id": "53ecea37",
   "metadata": {},
   "outputs": [],
   "source": [
    "sns.distplot(sample_mean)"
   ]
  },
  {
   "cell_type": "code",
   "execution_count": null,
   "id": "d66593bd",
   "metadata": {},
   "outputs": [],
   "source": [
    "stats.shapiro(sample_mean)"
   ]
  },
  {
   "cell_type": "code",
   "execution_count": null,
   "id": "00d9180f",
   "metadata": {},
   "outputs": [],
   "source": [
    "# Follow normal distribution when number of samples taken is further increased to 1000"
   ]
  },
  {
   "cell_type": "code",
   "execution_count": null,
   "id": "c6f35359",
   "metadata": {},
   "outputs": [],
   "source": [
    "mean_of_sampledist = np.mean(sample_mean)"
   ]
  },
  {
   "cell_type": "code",
   "execution_count": null,
   "id": "ebe9afcb",
   "metadata": {},
   "outputs": [],
   "source": [
    "mean_of_sampledist"
   ]
  },
  {
   "cell_type": "code",
   "execution_count": null,
   "id": "4c003e30",
   "metadata": {},
   "outputs": [],
   "source": []
  },
  {
   "cell_type": "code",
   "execution_count": null,
   "id": "a6bd15a6",
   "metadata": {},
   "outputs": [],
   "source": []
  },
  {
   "cell_type": "code",
   "execution_count": null,
   "id": "071bf3ce",
   "metadata": {},
   "outputs": [],
   "source": []
  }
 ],
 "metadata": {
  "kernelspec": {
   "display_name": "Python 3 (ipykernel)",
   "language": "python",
   "name": "python3"
  },
  "language_info": {
   "codemirror_mode": {
    "name": "ipython",
    "version": 3
   },
   "file_extension": ".py",
   "mimetype": "text/x-python",
   "name": "python",
   "nbconvert_exporter": "python",
   "pygments_lexer": "ipython3",
   "version": "3.9.13"
  }
 },
 "nbformat": 4,
 "nbformat_minor": 5
}
