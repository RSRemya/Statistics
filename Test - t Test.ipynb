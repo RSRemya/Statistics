{
 "cells": [
  {
   "cell_type": "code",
   "execution_count": 1,
   "id": "f620e96c",
   "metadata": {},
   "outputs": [],
   "source": [
    "from numpy.random import randn\n",
    "import numpy as np"
   ]
  },
  {
   "cell_type": "markdown",
   "id": "3bed4e6f",
   "metadata": {},
   "source": [
    "# Z TEST"
   ]
  },
  {
   "cell_type": "code",
   "execution_count": 2,
   "id": "1da440d2",
   "metadata": {},
   "outputs": [
    {
     "data": {
      "text/plain": [
       "array([ 90.66087036, 112.08444743,  89.44937587,  88.56704268,\n",
       "       108.90066466, 119.63242822,  95.0376339 ,  80.11280205,\n",
       "        84.07126329, 115.82689036, 108.2691695 , 106.68655035,\n",
       "       109.06844091,  98.34776986, 105.66701099,  88.44865619,\n",
       "       104.540764  ,  99.55235395,  81.87790485, 106.39652592,\n",
       "        92.39215631,  72.2041505 , 110.92502443,  81.52687561,\n",
       "        94.52681183,  94.03978784, 118.55246095,  97.17688713,\n",
       "        90.21619106,  81.25161352,  85.9312037 ,  81.20569668,\n",
       "       100.44558003, 124.80858677,  82.01237887,  83.53876749,\n",
       "       100.26685891, 118.82581387, 123.26828112, 118.69726239,\n",
       "        94.88013361,  96.03278394, 100.92346592, 110.97720247,\n",
       "        94.67747005,  98.78913954, 108.77668924, 105.89690922,\n",
       "       103.54623148, 102.51504958])"
      ]
     },
     "execution_count": 2,
     "metadata": {},
     "output_type": "execute_result"
    }
   ],
   "source": [
    "sample_mean=110\n",
    "alpha=0.05\n",
    "#ci=95%\n",
    "mean_std_dev=15\n",
    "mean_population=100\n",
    "\n",
    "# To implement ztest we need population data also\n",
    "data=mean_std_dev*randn(50)+mean_population\n",
    "data"
   ]
  },
  {
   "cell_type": "code",
   "execution_count": 3,
   "id": "7b1ad828",
   "metadata": {},
   "outputs": [
    {
     "data": {
      "text/plain": [
       "99.24052058809484"
      ]
     },
     "execution_count": 3,
     "metadata": {},
     "output_type": "execute_result"
    }
   ],
   "source": [
    "np.mean(data)"
   ]
  },
  {
   "cell_type": "code",
   "execution_count": 4,
   "id": "532efb1d",
   "metadata": {},
   "outputs": [
    {
     "data": {
      "text/plain": [
       "12.708886393514435"
      ]
     },
     "execution_count": 4,
     "metadata": {},
     "output_type": "execute_result"
    }
   ],
   "source": [
    "np.std(data)"
   ]
  },
  {
   "cell_type": "code",
   "execution_count": 5,
   "id": "40606ce0",
   "metadata": {},
   "outputs": [],
   "source": [
    "from statsmodels.stats.weightstats import ztest\n",
    "ztest_Score, p_value= ztest(data,value = mean_population, alternative='larger')\n",
    "# the function outputs a p_value and z-score corresponding to that value, we compare the "
   ]
  },
  {
   "cell_type": "code",
   "execution_count": 6,
   "id": "e01cb27d",
   "metadata": {},
   "outputs": [
    {
     "name": "stdout",
     "output_type": "stream",
     "text": [
      "Accept Null Hypothesis\n"
     ]
    }
   ],
   "source": [
    "# p-value with alpha, if it is greater than alpha then we do not null hypothesis \n",
    "# else we reject it.\n",
    "  \n",
    "if(p_value <  alpha):\n",
    "  print(\"Reject Null Hypothesis\")\n",
    "else:\n",
    "  print(\"Accept Null Hypothesis\")"
   ]
  },
  {
   "cell_type": "code",
   "execution_count": 7,
   "id": "55fe1f0d",
   "metadata": {},
   "outputs": [],
   "source": [
    "# When sample size <30 use t test instead of z test\n",
    "# While using t test we don't need population std dev, instead of it sample std dev is required"
   ]
  },
  {
   "cell_type": "markdown",
   "id": "5a80b316",
   "metadata": {},
   "source": [
    "# T TEST"
   ]
  },
  {
   "cell_type": "code",
   "execution_count": 8,
   "id": "ff2bf0d2",
   "metadata": {},
   "outputs": [
    {
     "data": {
      "text/plain": [
       "array([47, 25, 23, 20, 30, 11, 34, 18, 46, 20, 30, 11, 33, 32, 17, 39, 33,\n",
       "       18, 29, 46, 44, 17, 39, 26, 29, 26, 45, 34, 27, 47, 30, 48, 42, 42,\n",
       "       19, 39, 30, 13, 46, 40, 35, 29, 19, 35, 13, 30, 38, 20, 21, 34, 29,\n",
       "       17, 14, 38, 14, 37, 41, 27, 29, 27, 48, 35, 46, 28, 15, 18, 36, 49,\n",
       "       32, 49, 44, 26, 17, 22, 26, 31, 25, 18, 29, 35, 34, 38, 33, 22, 45,\n",
       "       46, 39, 31, 19, 15, 11, 27, 24, 46, 13, 26, 12, 46, 15, 49, 40, 34,\n",
       "       10, 41, 31, 14, 41, 48, 41, 23, 28, 37, 42, 28, 46, 29, 14, 11, 46,\n",
       "       11, 45, 11, 31, 38, 15, 27, 14, 32, 12, 43, 23, 44, 30, 21, 29, 21,\n",
       "       46, 11, 23, 32, 18, 41, 23, 28, 39, 22, 41, 24, 25, 21, 19, 44, 23,\n",
       "       14, 37, 21, 36, 47, 44, 27, 43, 43, 41, 23, 21, 33, 36, 14, 42, 11,\n",
       "       23, 46, 27, 32, 47, 34, 40, 26, 32, 47, 21, 36, 11, 34, 21, 27, 20,\n",
       "       26, 13, 21, 29, 17, 43, 49, 14, 10, 40, 48, 43, 12, 19, 16, 12, 10,\n",
       "       44, 45, 41, 12, 28, 40, 40, 13, 22, 18, 17, 48, 14, 11, 14, 24, 36,\n",
       "       44, 17, 41, 46, 28, 17, 38, 30, 39, 29, 13, 29, 25, 19, 28, 39, 19,\n",
       "       41, 34, 26, 27, 40, 24, 18, 13, 20, 35, 19, 31, 41, 41, 17, 48, 19,\n",
       "       20, 30, 34, 46, 26, 21, 48, 31, 25, 40, 39, 39, 19, 19, 29, 15, 46,\n",
       "       47, 19, 10, 44, 35, 11, 47, 44, 37, 49, 17, 30, 46, 29, 19, 29, 16,\n",
       "       33, 42, 19, 30, 12, 29, 43, 13, 37, 44, 15, 49, 38, 43, 23, 42, 34,\n",
       "       14, 33, 23, 46, 45, 15, 41, 13, 47, 41, 45, 34, 30, 48, 35, 22, 47,\n",
       "       34, 46, 47, 16, 36, 17, 34, 18, 15, 25, 26, 48, 12, 17, 29, 33, 38,\n",
       "       12, 17, 32, 20, 26, 37, 16, 36, 17, 14, 35, 48, 17, 34, 33, 46, 17,\n",
       "       40, 25, 46, 38, 22, 37, 48, 15, 29, 32, 33, 41, 17, 16, 48, 29, 39,\n",
       "       44, 34, 14, 48, 46, 34, 10, 33, 44, 12, 40, 18, 11, 25, 36, 19, 32,\n",
       "       17, 10, 14, 46, 37, 17, 17, 30, 40, 45, 47, 41, 20, 28, 19, 41, 21,\n",
       "       21, 16, 26, 29, 25, 34, 25, 24, 24, 17, 34, 47, 45, 24, 11, 32, 36,\n",
       "       23, 40, 22, 36, 48, 20, 40, 45, 29, 22, 49, 31, 42, 21, 41, 12, 24,\n",
       "       17, 41, 31, 20, 49, 10, 28, 36, 16, 22, 34, 39, 33, 38, 14, 19, 20,\n",
       "       42, 38, 11, 43, 23, 33, 41, 37, 22, 44, 17, 25, 11, 31, 34, 47, 48,\n",
       "       39, 14, 14, 11, 39, 39, 10, 10, 44, 11, 49, 29, 35, 49, 31, 28, 29,\n",
       "       13, 24, 16, 28, 37, 16, 15])"
      ]
     },
     "execution_count": 8,
     "metadata": {},
     "output_type": "execute_result"
    }
   ],
   "source": [
    "import random\n",
    "import numpy as np\n",
    "population=np.random.randint(10,50,500)\n",
    "population"
   ]
  },
  {
   "cell_type": "code",
   "execution_count": 9,
   "id": "36603266",
   "metadata": {},
   "outputs": [
    {
     "data": {
      "text/plain": [
       "29.634"
      ]
     },
     "execution_count": 9,
     "metadata": {},
     "output_type": "execute_result"
    }
   ],
   "source": [
    "np.mean(population)"
   ]
  },
  {
   "cell_type": "code",
   "execution_count": 10,
   "id": "09c90373",
   "metadata": {},
   "outputs": [],
   "source": [
    "# taking 2 samples of length 20 from the population\n",
    "my_cricket_score=np.random.choice(population,20)\n",
    "virat_cricket_score=np.random.choice(population,20)"
   ]
  },
  {
   "cell_type": "code",
   "execution_count": 11,
   "id": "099c4591",
   "metadata": {},
   "outputs": [
    {
     "data": {
      "text/plain": [
       "32.95"
      ]
     },
     "execution_count": 11,
     "metadata": {},
     "output_type": "execute_result"
    }
   ],
   "source": [
    "np.mean(my_cricket_score)\n",
    "# Null hypo - sample mean should be 25.9"
   ]
  },
  {
   "cell_type": "code",
   "execution_count": 12,
   "id": "23c103cc",
   "metadata": {},
   "outputs": [
    {
     "data": {
      "text/plain": [
       "29.05"
      ]
     },
     "execution_count": 12,
     "metadata": {},
     "output_type": "execute_result"
    }
   ],
   "source": [
    "np.mean(virat_cricket_score)"
   ]
  },
  {
   "cell_type": "code",
   "execution_count": 13,
   "id": "2700cf65",
   "metadata": {},
   "outputs": [],
   "source": [
    "# ONE SAMPLE T TEST - Tests whether the mean of a single population is equal to a target value"
   ]
  },
  {
   "cell_type": "code",
   "execution_count": 14,
   "id": "44ebf97b",
   "metadata": {},
   "outputs": [],
   "source": [
    "import scipy\n",
    "result=scipy.stats.ttest_1samp(my_cricket_score,26.58)"
   ]
  },
  {
   "cell_type": "code",
   "execution_count": 15,
   "id": "8bc5cbe2",
   "metadata": {},
   "outputs": [
    {
     "data": {
      "text/plain": [
       "0.030116809504718463"
      ]
     },
     "execution_count": 15,
     "metadata": {},
     "output_type": "execute_result"
    }
   ],
   "source": [
    "result[1]"
   ]
  },
  {
   "cell_type": "code",
   "execution_count": 16,
   "id": "b6d2e334",
   "metadata": {},
   "outputs": [],
   "source": [
    "# TWO SAMPLE T TEST - Tests whether the difference between the means of two independent populations is equal to a target value"
   ]
  },
  {
   "cell_type": "code",
   "execution_count": 17,
   "id": "f0f86e8e",
   "metadata": {},
   "outputs": [
    {
     "data": {
      "text/plain": [
       "Ttest_indResult(statistic=1.0691956116253138, pvalue=0.291726517629345)"
      ]
     },
     "execution_count": 17,
     "metadata": {},
     "output_type": "execute_result"
    }
   ],
   "source": [
    "scipy.stats.ttest_ind(my_cricket_score,virat_cricket_score)"
   ]
  },
  {
   "cell_type": "code",
   "execution_count": 18,
   "id": "973d7aa8",
   "metadata": {},
   "outputs": [],
   "source": [
    "# PAIR T TEST - two sample from the sample population on different time interval"
   ]
  },
  {
   "cell_type": "code",
   "execution_count": 19,
   "id": "0f7bcd4b",
   "metadata": {},
   "outputs": [],
   "source": [
    "my_cricket_score_from_first_inning=[22, 38, 19, 15, 48, 11, 10, 49, 47, 38, 10, 25, 46, 10, 21, 24, 29,36, 25, 24]\n",
    "my_cricket_score_from_second_inning=[22, 38, 29, 15, 18, 11, 10, 49, 47, 38, 50, 45, 46, 40, 21, 24, 29,16, 25, 24]"
   ]
  },
  {
   "cell_type": "code",
   "execution_count": 20,
   "id": "7bb65080",
   "metadata": {},
   "outputs": [
    {
     "name": "stdout",
     "output_type": "stream",
     "text": [
      "27.35\n",
      "29.85\n"
     ]
    }
   ],
   "source": [
    "print(np.mean(my_cricket_score_from_first_inning))\n",
    "print(np.mean(my_cricket_score_from_second_inning))"
   ]
  },
  {
   "cell_type": "code",
   "execution_count": 21,
   "id": "de8109fe",
   "metadata": {},
   "outputs": [
    {
     "data": {
      "text/plain": [
       "Ttest_relResult(statistic=-0.7542295906745516, pvalue=0.45995773816634733)"
      ]
     },
     "execution_count": 21,
     "metadata": {},
     "output_type": "execute_result"
    }
   ],
   "source": [
    "scipy.stats.ttest_rel(my_cricket_score_from_first_inning,my_cricket_score_from_second_inning)"
   ]
  },
  {
   "cell_type": "code",
   "execution_count": null,
   "id": "d0d6ceb3",
   "metadata": {},
   "outputs": [],
   "source": []
  }
 ],
 "metadata": {
  "kernelspec": {
   "display_name": "Python 3 (ipykernel)",
   "language": "python",
   "name": "python3"
  },
  "language_info": {
   "codemirror_mode": {
    "name": "ipython",
    "version": 3
   },
   "file_extension": ".py",
   "mimetype": "text/x-python",
   "name": "python",
   "nbconvert_exporter": "python",
   "pygments_lexer": "ipython3",
   "version": "3.9.13"
  }
 },
 "nbformat": 4,
 "nbformat_minor": 5
}
